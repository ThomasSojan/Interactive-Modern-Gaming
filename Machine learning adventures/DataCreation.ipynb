{
 "cells": [
  {
   "cell_type": "code",
   "execution_count": 1,
   "metadata": {},
   "outputs": [],
   "source": [
    "import cv2\n",
    "import numpy as np\n",
    "import os "
   ]
  },
  {
   "cell_type": "code",
   "execution_count": 2,
   "metadata": {},
   "outputs": [
    {
     "name": "stdout",
     "output_type": "stream",
     "text": [
      "Enter the Gesture name: pist\n",
      "directory sucesfully created\n"
     ]
    },
    {
     "data": {
      "text/plain": [
       "['C:\\\\Users\\\\thoma\\\\Desktop\\\\Machine learning adventures\\\\Data\\\\BGR\\\\pist',\n",
       " 'C:\\\\Users\\\\thoma\\\\Desktop\\\\Machine learning adventures\\\\Data\\\\RGB\\\\pist',\n",
       " 'C:\\\\Users\\\\thoma\\\\Desktop\\\\Machine learning adventures\\\\Data\\\\GRAY\\\\pist']"
      ]
     },
     "execution_count": 2,
     "metadata": {},
     "output_type": "execute_result"
    }
   ],
   "source": [
    "directory = input(\"Enter the Gesture name: \")\n",
    "temp_paths = []\n",
    "gest_paths =[]\n",
    "\n",
    "parent_dir = r\"C:\\Users\\thoma\\Desktop\\Machine learning adventures\\Data\"\n",
    "directories = ['BGR','RGB','GRAY']\n",
    "for folder in directories:\n",
    "    path = os.path.join(parent_dir,folder)\n",
    "    temp_paths.append(path)\n",
    "for item in temp_paths:\n",
    "    gest_dir = os.path.join(item,directory)\n",
    "    gest_paths.append(gest_dir)\n",
    "    os.mkdir(gest_dir)\n",
    "print('directory sucesfully created')\n",
    "gest_paths\n",
    "    "
   ]
  },
  {
   "cell_type": "code",
   "execution_count": 4,
   "metadata": {},
   "outputs": [],
   "source": [
    "#lower = np.array([0,48,80])\n",
    "#upper = np.array([20,255,255])\n",
    "cap = cv2.VideoCapture(0)\n",
    "#kernel = np.ones((15,15),np.float32)/225\n",
    "count = 0\n",
    "pic_no = 0\n",
    "while(True):\n",
    "    _,frame = cap.read()\n",
    "    frame = cv2.flip(frame,1)\n",
    "    filename = str(count)+\".jpg\"\n",
    "    BGR = cv2.GaussianBlur(frame,(15,15),0)\n",
    "    RGB = cv2.cvtColor(frame,cv2.COLOR_BGR2RGB)\n",
    "    RGB = cv2.GaussianBlur(RGB,(15,15),0)\n",
    "    GRAY = cv2.cvtColor(frame,cv2.COLOR_BGR2GRAY)\n",
    "    GRAY = cv2.GaussianBlur(GRAY,(15,15),0)\n",
    "    \n",
    "    if (count % 9 == 0):\n",
    "        filename = str(pic_no)+\".jpg\"\n",
    "        pic_no  = pic_no + 1\n",
    "\n",
    "        os.chdir(gest_paths[0])\n",
    "        cv2.imwrite(filename,BGR)\n",
    "\n",
    "        os.chdir(gest_paths[1])\n",
    "        cv2.imwrite(filename,RGB)\n",
    "        #frame = cv2.filter2D(frame,-1,kernel)\n",
    "\n",
    "        os.chdir(gest_paths[2])\n",
    "        cv2.imwrite(filename,GRAY)\n",
    "       \n",
    "    count = count + 1\n",
    "    if pic_no == 1000:\n",
    "        break\n",
    "    #frame = cv2.cvtColor(frame,cv2.COLOR_BGR2GRAY)\n",
    "    #mask = cv2.inRange(frame, lower, upper)\n",
    "    #(thresh, blackAndWhiteImage) = cv2.threshold(frame, 127, 255, cv2.THRESH_BINARY)\n",
    "    cv2.imshow(\"RGB\",RGB)\n",
    "    cv2.imshow(\"BGR\",BGR)\n",
    "\n",
    "    cv2.imshow(\"GRAY\",GRAY)\n",
    "    #cv2.imshow(\"BIN\",blackAndWhiteImage)\n",
    "    k = cv2.waitKey(5) & 0xFF\n",
    "    if k == 27:\n",
    "        break\n",
    "cap.release()\n",
    "cv2.destroyAllWindows()        \n"
   ]
  },
  {
   "cell_type": "code",
   "execution_count": null,
   "metadata": {},
   "outputs": [],
   "source": []
  },
  {
   "cell_type": "code",
   "execution_count": null,
   "metadata": {},
   "outputs": [],
   "source": []
  },
  {
   "cell_type": "code",
   "execution_count": null,
   "metadata": {},
   "outputs": [],
   "source": []
  },
  {
   "cell_type": "code",
   "execution_count": null,
   "metadata": {},
   "outputs": [],
   "source": []
  },
  {
   "cell_type": "code",
   "execution_count": null,
   "metadata": {},
   "outputs": [],
   "source": []
  }
 ],
 "metadata": {
  "kernelspec": {
   "display_name": "venv",
   "language": "python",
   "name": "venv"
  },
  "language_info": {
   "codemirror_mode": {
    "name": "ipython",
    "version": 3
   },
   "file_extension": ".py",
   "mimetype": "text/x-python",
   "name": "python",
   "nbconvert_exporter": "python",
   "pygments_lexer": "ipython3",
   "version": "3.6.3"
  }
 },
 "nbformat": 4,
 "nbformat_minor": 4
}
