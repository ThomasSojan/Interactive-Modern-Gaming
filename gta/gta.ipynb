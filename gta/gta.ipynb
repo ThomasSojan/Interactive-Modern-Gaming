{
 "cells": [
  {
   "cell_type": "code",
   "execution_count": 1,
   "metadata": {},
   "outputs": [],
   "source": [
    "import cv2\n",
    "import numpy as np\n",
    "from win32directx import PressKey, W,A,S,D , ReleaseKey\n",
    "\n",
    "\n",
    "cap = cv2.VideoCapture(0)\n",
    "(camx,camy) = (600,600)\n",
    "cap.set(3,camx)\n",
    "cap.set(4,camy)\n",
    "\n",
    "lowerbound = np.array([76,134,89])\n",
    "upperbound = np.array([255,255,255])\n",
    "kernelOpen = np.ones((5,5))\n",
    "kernelClose = np.ones((20,20))\n",
    "\n",
    "\n",
    "\n",
    "\n",
    "while True:\n",
    "    ret,frame = cap.read()\n",
    "    frame = cv2.flip(frame,1)\n",
    "    #frame = cv2.GaussianBlur(frame,(5,5),0)\n",
    "    \n",
    "    cv2.rectangle(frame, (175, 150), (450,350), (0, 255, 0), 2)\n",
    "    cv2.rectangle(frame, (175,150), (450,0), (0,255,0), 2)\n",
    "    cv2.rectangle(frame,(175,350),(450,475),(0,255,0),2)\n",
    "    cv2.rectangle(frame,(450,150),(635,350),(0,255,0),2)\n",
    "    cv2.rectangle(frame,(175,150),(0,350),(0,255,0),2)\n",
    "    \n",
    "    \n",
    "    \n",
    "\n",
    "    \n",
    "    #convert BGR to HSV\n",
    "    imgHSV = cv2.cvtColor(frame,cv2.COLOR_BGR2HSV)\n",
    "    #create mask\n",
    "    mask = cv2.inRange(imgHSV,lowerbound,upperbound)\n",
    "\n",
    "    #morphology\n",
    "    maskOpen = cv2.morphologyEx(mask,cv2.MORPH_OPEN,kernelOpen)\n",
    "    maskClose = cv2.morphologyEx(maskOpen,cv2.MORPH_CLOSE,kernelClose)\n",
    "\n",
    "    maskFinal = maskClose\n",
    "    conts,h = cv2.findContours(maskFinal.copy(),cv2.RETR_EXTERNAL,cv2.CHAIN_APPROX_NONE)\n",
    "    for contour in conts:\n",
    "        area = cv2.contourArea(contour)\n",
    "        if area > 500:\n",
    "            x1,y1,h1,w1 = cv2.boundingRect(conts[0])\n",
    "            cv2.rectangle(frame,(x1,y1),(x1+w1,y1+h1),(255,0,0),2)\n",
    "            cx1=x1+w1//2\n",
    "            cy1=y1+h1//2\n",
    "            cv2.circle(frame,(cx1,cy1),2,(0,0,255),2)\n",
    "    \n",
    "    \n",
    "    \n",
    "    \n",
    "    \n",
    "    \n",
    "    \n",
    "    \n",
    "    \n",
    "    k = cv2.waitKey(5) & 0xFF\n",
    "    if (k == 27 ):\n",
    "        break\n",
    "    cv2.imshow(\"frame\",frame)\n",
    "cap.release()\n",
    "cv2.destroyAllWindows()"
   ]
  },
  {
   "cell_type": "code",
   "execution_count": null,
   "metadata": {},
   "outputs": [],
   "source": []
  },
  {
   "cell_type": "code",
   "execution_count": null,
   "metadata": {},
   "outputs": [],
   "source": []
  },
  {
   "cell_type": "code",
   "execution_count": null,
   "metadata": {},
   "outputs": [],
   "source": []
  },
  {
   "cell_type": "code",
   "execution_count": null,
   "metadata": {},
   "outputs": [],
   "source": []
  },
  {
   "cell_type": "code",
   "execution_count": null,
   "metadata": {},
   "outputs": [],
   "source": []
  },
  {
   "cell_type": "code",
   "execution_count": null,
   "metadata": {},
   "outputs": [],
   "source": []
  },
  {
   "cell_type": "code",
   "execution_count": null,
   "metadata": {},
   "outputs": [],
   "source": []
  },
  {
   "cell_type": "code",
   "execution_count": null,
   "metadata": {},
   "outputs": [],
   "source": []
  },
  {
   "cell_type": "code",
   "execution_count": null,
   "metadata": {},
   "outputs": [],
   "source": []
  }
 ],
 "metadata": {
  "kernelspec": {
   "display_name": "mlvenv",
   "language": "python",
   "name": "mlvenv"
  },
  "language_info": {
   "codemirror_mode": {
    "name": "ipython",
    "version": 3
   },
   "file_extension": ".py",
   "mimetype": "text/x-python",
   "name": "python",
   "nbconvert_exporter": "python",
   "pygments_lexer": "ipython3",
   "version": "3.6.3"
  }
 },
 "nbformat": 4,
 "nbformat_minor": 4
}
