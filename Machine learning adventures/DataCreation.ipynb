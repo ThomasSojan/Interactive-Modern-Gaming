{
 "cells": [
  {
   "cell_type": "code",
   "execution_count": 2,
   "metadata": {},
   "outputs": [
    {
     "name": "stdout",
     "output_type": "stream",
     "text": [
      "Enter the Gesture name2D\n"
     ]
    }
   ],
   "source": [
    "import cv2\n",
    "import numpy as np\n",
    "import os\n",
    "\n",
    "\n",
    "directory = input(\"Enter the Gesture name\")\n",
    "parent_dir = r\"C:\\Users\\thoma\\Desktop\\Machine learning adventures\\Data\"\n",
    "path = os.path.join(parent_dir,directory)\n",
    "os.mkdir(path)\n",
    "os.chdir(path)\n",
    "directories = ['BGR','RGB','GRAY']\n",
    "for folder  in directories:\n",
    "    os.mkdir(folder)\n",
    "path1 =os.path.join(path,'BGR') \n",
    "path2 =os.path.join(path,'RGB')     \n",
    "path3 =os.path.join(path,'GRAY')"
   ]
  },
  {
   "cell_type": "code",
   "execution_count": 4,
   "metadata": {},
   "outputs": [],
   "source": [
    "#lower = np.array([0,48,80])\n",
    "#upper = np.array([20,255,255])\n",
    "cap = cv2.VideoCapture(0)\n",
    "#kernel = np.ones((15,15),np.float32)/225\n",
    "count = 0\n",
    "while(True):\n",
    "    _,frame = cap.read()\n",
    "    frame = cv2.flip(frame,1)\n",
    "    BGR = cv2.GaussianBlur(frame,(15,15),0)\n",
    "    os.chdir(path1)\n",
    "    filename = str(count)+\".jpg\"\n",
    "    cv2.imwrite(filename,BGR)\n",
    "    RGB = cv2.cvtColor(frame,cv2.COLOR_BGR2RGB)\n",
    "    RGB = cv2.GaussianBlur(RGB,(15,15),0)\n",
    "    os.chdir(path2)\n",
    "    cv2.imwrite(filename,RGB)\n",
    "    #frame = cv2.filter2D(frame,-1,kernel)\n",
    "    GRAY = cv2.cvtColor(frame,cv2.COLOR_BGR2GRAY)\n",
    "    GRAY = cv2.GaussianBlur(GRAY,(15,15),0)\n",
    "    os.chdir(path3)\n",
    "    cv2.imwrite(filename,GRAY)\n",
    "    count = count + 1\n",
    "    #cv2.imwrite(filename,BGR)\n",
    "    \n",
    "    \n",
    "\n",
    "    #frame = cv2.cvtColor(frame,cv2.COLOR_BGR2GRAY)\n",
    "    #mask = cv2.inRange(frame, lower, upper)\n",
    "    #(thresh, blackAndWhiteImage) = cv2.threshold(frame, 127, 255, cv2.THRESH_BINARY)\n",
    "    cv2.imshow(\"RGB\",RGB)\n",
    "    cv2.imshow(\"BGR\",BGR)\n",
    "\n",
    "    cv2.imshow(\"GRAY\",GRAY)\n",
    "    #cv2.imshow(\"BIN\",blackAndWhiteImage)\n",
    "    k = cv2.waitKey(5) & 0xFF\n",
    "    if k == 27:\n",
    "        break\n",
    "cap.release()\n",
    "cv2.destroyAllWindows()        "
   ]
  },
  {
   "cell_type": "code",
   "execution_count": null,
   "metadata": {},
   "outputs": [],
   "source": []
  },
  {
   "cell_type": "code",
   "execution_count": null,
   "metadata": {},
   "outputs": [],
   "source": []
  },
  {
   "cell_type": "code",
   "execution_count": null,
   "metadata": {},
   "outputs": [],
   "source": []
  },
  {
   "cell_type": "code",
   "execution_count": null,
   "metadata": {},
   "outputs": [],
   "source": []
  },
  {
   "cell_type": "code",
   "execution_count": null,
   "metadata": {},
   "outputs": [],
   "source": []
  }
 ],
 "metadata": {
  "kernelspec": {
   "display_name": "venv",
   "language": "python",
   "name": "venv"
  },
  "language_info": {
   "codemirror_mode": {
    "name": "ipython",
    "version": 3
   },
   "file_extension": ".py",
   "mimetype": "text/x-python",
   "name": "python",
   "nbconvert_exporter": "python",
   "pygments_lexer": "ipython3",
   "version": "3.6.3"
  }
 },
 "nbformat": 4,
 "nbformat_minor": 4
}
